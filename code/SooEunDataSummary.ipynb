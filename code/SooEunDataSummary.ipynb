{
 "cells": [
  {
   "cell_type": "code",
   "execution_count": 1,
   "metadata": {},
   "outputs": [],
   "source": [
    "import pandas as pd\n",
    "import numpy as np"
   ]
  },
  {
   "cell_type": "code",
   "execution_count": 2,
   "metadata": {},
   "outputs": [],
   "source": [
    "df = pd.read_csv('sooeunscanfile_visit1included_updated3.csv')"
   ]
  },
  {
   "cell_type": "code",
   "execution_count": 3,
   "metadata": {},
   "outputs": [],
   "source": [
    "df = df[df['Include'] == 1]"
   ]
  },
  {
   "cell_type": "code",
   "execution_count": 4,
   "metadata": {},
   "outputs": [
    {
     "data": {
      "text/plain": [
       "121"
      ]
     },
     "execution_count": 4,
     "metadata": {},
     "output_type": "execute_result"
    }
   ],
   "source": [
    "len(df)"
   ]
  },
  {
   "cell_type": "code",
   "execution_count": 5,
   "metadata": {},
   "outputs": [
    {
     "data": {
      "text/plain": [
       "2    62\n",
       "1    59\n",
       "Name: Group, dtype: int64"
      ]
     },
     "execution_count": 5,
     "metadata": {},
     "output_type": "execute_result"
    }
   ],
   "source": [
    "df.Group.value_counts()"
   ]
  },
  {
   "cell_type": "code",
   "execution_count": 6,
   "metadata": {},
   "outputs": [
    {
     "data": {
      "text/plain": [
       "1    61\n",
       "0    60\n",
       "Name: sex, dtype: int64"
      ]
     },
     "execution_count": 6,
     "metadata": {},
     "output_type": "execute_result"
    }
   ],
   "source": [
    "df.sex.value_counts()"
   ]
  },
  {
   "cell_type": "code",
   "execution_count": 7,
   "metadata": {},
   "outputs": [
    {
     "data": {
      "text/plain": [
       "Index(['Subject', 'Cohort', 'Group', 'ScanNumber', 'TimePostCensor.min.',\n",
       "       'meanFD', 'Include', 'sex', 'age_mri_months', 'age_mri_years'],\n",
       "      dtype='object')"
      ]
     },
     "execution_count": 7,
     "metadata": {},
     "output_type": "execute_result"
    }
   ],
   "source": [
    "df.columns"
   ]
  },
  {
   "cell_type": "code",
   "execution_count": 8,
   "metadata": {},
   "outputs": [
    {
     "data": {
      "text/plain": [
       "1    70\n",
       "2    51\n",
       "Name: Cohort, dtype: int64"
      ]
     },
     "execution_count": 8,
     "metadata": {},
     "output_type": "execute_result"
    }
   ],
   "source": [
    "df['Cohort'].value_counts()"
   ]
  },
  {
   "cell_type": "code",
   "execution_count": 9,
   "metadata": {},
   "outputs": [
    {
     "data": {
      "text/html": [
       "<div>\n",
       "<style scoped>\n",
       "    .dataframe tbody tr th:only-of-type {\n",
       "        vertical-align: middle;\n",
       "    }\n",
       "\n",
       "    .dataframe tbody tr th {\n",
       "        vertical-align: top;\n",
       "    }\n",
       "\n",
       "    .dataframe thead th {\n",
       "        text-align: right;\n",
       "    }\n",
       "</style>\n",
       "<table border=\"1\" class=\"dataframe\">\n",
       "  <thead>\n",
       "    <tr style=\"text-align: right;\">\n",
       "      <th></th>\n",
       "      <th>Cohort</th>\n",
       "      <th>Group</th>\n",
       "      <th>ScanNumber</th>\n",
       "      <th>TimePostCensor.min.</th>\n",
       "      <th>meanFD</th>\n",
       "      <th>sex</th>\n",
       "      <th>age_mri_months</th>\n",
       "      <th>age_mri_years</th>\n",
       "    </tr>\n",
       "  </thead>\n",
       "  <tbody>\n",
       "    <tr>\n",
       "      <th>count</th>\n",
       "      <td>121.000000</td>\n",
       "      <td>121.000000</td>\n",
       "      <td>121.000000</td>\n",
       "      <td>121.000000</td>\n",
       "      <td>121.000000</td>\n",
       "      <td>121.000000</td>\n",
       "      <td>121.000000</td>\n",
       "      <td>121.000000</td>\n",
       "    </tr>\n",
       "    <tr>\n",
       "      <th>mean</th>\n",
       "      <td>1.421488</td>\n",
       "      <td>1.512397</td>\n",
       "      <td>1.132231</td>\n",
       "      <td>5.897705</td>\n",
       "      <td>0.394171</td>\n",
       "      <td>0.504132</td>\n",
       "      <td>73.752893</td>\n",
       "      <td>6.146074</td>\n",
       "    </tr>\n",
       "    <tr>\n",
       "      <th>std</th>\n",
       "      <td>0.495851</td>\n",
       "      <td>0.501925</td>\n",
       "      <td>0.427047</td>\n",
       "      <td>0.946261</td>\n",
       "      <td>0.347132</td>\n",
       "      <td>0.502062</td>\n",
       "      <td>22.840126</td>\n",
       "      <td>1.903344</td>\n",
       "    </tr>\n",
       "    <tr>\n",
       "      <th>min</th>\n",
       "      <td>1.000000</td>\n",
       "      <td>1.000000</td>\n",
       "      <td>1.000000</td>\n",
       "      <td>3.125000</td>\n",
       "      <td>0.061800</td>\n",
       "      <td>0.000000</td>\n",
       "      <td>40.000000</td>\n",
       "      <td>3.333333</td>\n",
       "    </tr>\n",
       "    <tr>\n",
       "      <th>25%</th>\n",
       "      <td>1.000000</td>\n",
       "      <td>1.000000</td>\n",
       "      <td>1.000000</td>\n",
       "      <td>5.291667</td>\n",
       "      <td>0.147900</td>\n",
       "      <td>0.000000</td>\n",
       "      <td>55.200000</td>\n",
       "      <td>4.600000</td>\n",
       "    </tr>\n",
       "    <tr>\n",
       "      <th>50%</th>\n",
       "      <td>1.000000</td>\n",
       "      <td>2.000000</td>\n",
       "      <td>1.000000</td>\n",
       "      <td>6.166667</td>\n",
       "      <td>0.281100</td>\n",
       "      <td>1.000000</td>\n",
       "      <td>68.700000</td>\n",
       "      <td>5.725000</td>\n",
       "    </tr>\n",
       "    <tr>\n",
       "      <th>75%</th>\n",
       "      <td>2.000000</td>\n",
       "      <td>2.000000</td>\n",
       "      <td>1.000000</td>\n",
       "      <td>6.708333</td>\n",
       "      <td>0.552900</td>\n",
       "      <td>1.000000</td>\n",
       "      <td>86.500000</td>\n",
       "      <td>7.208333</td>\n",
       "    </tr>\n",
       "    <tr>\n",
       "      <th>max</th>\n",
       "      <td>2.000000</td>\n",
       "      <td>2.000000</td>\n",
       "      <td>3.000000</td>\n",
       "      <td>6.833333</td>\n",
       "      <td>2.004100</td>\n",
       "      <td>1.000000</td>\n",
       "      <td>129.100000</td>\n",
       "      <td>10.758333</td>\n",
       "    </tr>\n",
       "  </tbody>\n",
       "</table>\n",
       "</div>"
      ],
      "text/plain": [
       "           Cohort       Group  ScanNumber  TimePostCensor.min.      meanFD  \\\n",
       "count  121.000000  121.000000  121.000000           121.000000  121.000000   \n",
       "mean     1.421488    1.512397    1.132231             5.897705    0.394171   \n",
       "std      0.495851    0.501925    0.427047             0.946261    0.347132   \n",
       "min      1.000000    1.000000    1.000000             3.125000    0.061800   \n",
       "25%      1.000000    1.000000    1.000000             5.291667    0.147900   \n",
       "50%      1.000000    2.000000    1.000000             6.166667    0.281100   \n",
       "75%      2.000000    2.000000    1.000000             6.708333    0.552900   \n",
       "max      2.000000    2.000000    3.000000             6.833333    2.004100   \n",
       "\n",
       "              sex  age_mri_months  age_mri_years  \n",
       "count  121.000000      121.000000     121.000000  \n",
       "mean     0.504132       73.752893       6.146074  \n",
       "std      0.502062       22.840126       1.903344  \n",
       "min      0.000000       40.000000       3.333333  \n",
       "25%      0.000000       55.200000       4.600000  \n",
       "50%      1.000000       68.700000       5.725000  \n",
       "75%      1.000000       86.500000       7.208333  \n",
       "max      1.000000      129.100000      10.758333  "
      ]
     },
     "execution_count": 9,
     "metadata": {},
     "output_type": "execute_result"
    }
   ],
   "source": [
    "df.describe(include=[np.number])"
   ]
  },
  {
   "cell_type": "code",
   "execution_count": null,
   "metadata": {},
   "outputs": [],
   "source": []
  }
 ],
 "metadata": {
  "kernelspec": {
   "display_name": "Python 3",
   "language": "python",
   "name": "python3"
  },
  "language_info": {
   "codemirror_mode": {
    "name": "ipython",
    "version": 3
   },
   "file_extension": ".py",
   "mimetype": "text/x-python",
   "name": "python",
   "nbconvert_exporter": "python",
   "pygments_lexer": "ipython3",
   "version": "3.6.8"
  }
 },
 "nbformat": 4,
 "nbformat_minor": 4
}
